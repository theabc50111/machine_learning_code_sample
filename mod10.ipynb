{
 "cells": [
  {
   "cell_type": "code",
   "execution_count": 1,
   "metadata": {},
   "outputs": [
    {
     "name": "stdout",
     "output_type": "stream",
     "text": [
      "[[-3.56891228 -0.97390915]]\n",
      "[1 1 1 0 0 0 0 0 1 1 1 0 0 1 0 1 1 1 1 0 1 1 0 1 0 1 0 0 0 0 0 1 0 1 1 1 0\n",
      " 0 1 1 1 1 1 1 1 1 1 1 1 0 0 0 1 1 1 1 1 0 1 1 1 1 1 1 1 1 1 0 1 1 1 1 1 0\n",
      " 1 0 0 1 1 0 1 0 1 0 1 1 0 1 0 1 1 1 1 1 0 1 1 1 1 1 1 1 1 1 0 0 1 1 0 1 1\n",
      " 1 1 1 0 0 1 1 1 1 1 0 0 1 0 0 1 0 0 0 1 1 1 0 1 0 0 1 1 0 0 0 1 0 0 1 1 1\n",
      " 1 0 1 1 1 1 1 1 1 1 1 1 1 1 1 0 1 1 0 0 0 1 1]\n",
      "0.8654970760233918\n"
     ]
    }
   ],
   "source": [
    "import numpy as np\n",
    "import matplotlib.pyplot as plt\n",
    "from sklearn.linear_model  import LogisticRegression\n",
    "from sklearn import datasets\n",
    "from sklearn.model_selection import train_test_split\n",
    "from sklearn import preprocessing\n",
    "# import some data to play with\n",
    "cancer = datasets.load_breast_cancer()\n",
    "\n",
    "x = cancer.data[:, :2]  # we only take the first two features.\n",
    "y = cancer.target\n",
    "\n",
    "x_train,x_test,y_train,y_test=train_test_split(x,y,test_size=0.3,random_state=1) #random_state 種子值\n",
    "\n",
    "scaler = preprocessing.StandardScaler().fit(x_train)\n",
    "x_train = scaler.transform(x_train)\n",
    "\n",
    "model=LogisticRegression()\n",
    "model.fit(x_train,y_train)\n",
    "\n",
    "x_test_nor = scaler.transform(x_test) # 是對x_train訓練的標準化模型做變形\n",
    "y_pred = model.predict(x_test_nor)\n",
    "accuracy = model.score(x_test_nor, y_test)\n",
    "\n",
    "print(model.coef_)\n",
    "#print prediction result\n",
    "print(y_pred)\n",
    "#print accuracy \n",
    "print(accuracy)"
   ]
  }
 ],
 "metadata": {
  "kernelspec": {
   "display_name": "Python 3",
   "language": "python",
   "name": "python3"
  },
  "language_info": {
   "codemirror_mode": {
    "name": "ipython",
    "version": 3
   },
   "file_extension": ".py",
   "mimetype": "text/x-python",
   "name": "python",
   "nbconvert_exporter": "python",
   "pygments_lexer": "ipython3",
   "version": "3.8.5"
  }
 },
 "nbformat": 4,
 "nbformat_minor": 4
}
