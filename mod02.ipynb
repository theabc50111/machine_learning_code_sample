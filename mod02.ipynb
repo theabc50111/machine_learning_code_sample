{
 "cells": [
  {
   "cell_type": "markdown",
   "metadata": {},
   "source": [
    "# CSV & EXCEL"
   ]
  },
  {
   "cell_type": "code",
   "execution_count": null,
   "metadata": {},
   "outputs": [],
   "source": [
    "import pandas as pd\n",
    "pd.read_csv(\"./data/microbiome.csv\", header='infer', sep=',', encoding=\"utf-8\").head()"
   ]
  },
  {
   "cell_type": "code",
   "execution_count": null,
   "metadata": {},
   "outputs": [],
   "source": [
    "dx1 = pd.read_excel('./data/Sample_xls.xlsx', sheet_name='sheet1', header=None)\n",
    "dx2 = pd.read_excel('./data/Sample_xls.xlsx', sheet_name='sheet2', header=None)\n",
    "print(dx1.head())\n",
    "print('-'*100)\n",
    "print(dx2.head())"
   ]
  },
  {
   "cell_type": "code",
   "execution_count": null,
   "metadata": {},
   "outputs": [],
   "source": [
    "population_dict = {'California': 38332521,'Texas': 26448193,'New York': 19651127,'Florida': 19552860,\n",
    "                   'Illinois': 12882135}\n",
    "population = pd.Series(population_dict)\n",
    "area_dict = {'California': 423967, 'Texas': 695662, 'Illinois': 149995, 'New York': 141297,'Florida': 170312}\n",
    "area = pd.Series(area_dict)\n",
    "income_dict = {'California': 75277, 'Texas': 60629, 'Illinois': 65030, 'New York': 71855,'Florida': 53267}\n",
    "income = pd.Series(area_dict)\n",
    "data=pd.DataFrame({'pop': population,'area': area, 'income': income}) \n",
    "display(data)"
   ]
  },
  {
   "cell_type": "code",
   "execution_count": null,
   "metadata": {},
   "outputs": [],
   "source": [
    "data.to_csv('./data/output/to_csv_eg.csv',index=False,header=False)\n",
    "data.to_excel('./data/output/to_xls_eg.xlsx',index=False,header=False,sheet_name='sheet_name')"
   ]
  },
  {
   "cell_type": "markdown",
   "metadata": {},
   "source": [
    "# DataFrame select & indexing\n",
    "<details>\n",
    "    <summary>dataframe結構圖</summary>\n",
    "    <img src = './img/creating_dataframe1.png'>\n",
    "</details>\n",
    "<details>\n",
    "    <summary>dataframe的Series結構圖</summary>\n",
    "    <details>\n",
    "        <summary>columns' series</summary>\n",
    "        <img src = './img/dataSER-1.png'>\n",
    "    </details>\n",
    "    <details>\n",
    "        <summary>index lables' series</summary>\n",
    "        <img src = './img/Untitled.png'>\n",
    "    </details>\n",
    "</details>\n",
    "\n"
   ]
  },
  {
   "cell_type": "markdown",
   "metadata": {},
   "source": [
    "#### 使用 Dictionary 風格來存取(透過欄名稱索引) "
   ]
  },
  {
   "cell_type": "code",
   "execution_count": null,
   "metadata": {},
   "outputs": [],
   "source": [
    "data['area']"
   ]
  },
  {
   "cell_type": "markdown",
   "metadata": {},
   "source": [
    "#### Dictionary 風格的語法也可以用來修改物件，或是建立⼀個新欄位 "
   ]
  },
  {
   "cell_type": "code",
   "execution_count": null,
   "metadata": {},
   "outputs": [],
   "source": [
    "data['density'] = data['pop'] / data['area']"
   ]
  },
  {
   "cell_type": "markdown",
   "metadata": {},
   "source": [
    "#### DataFrame的屬性"
   ]
  },
  {
   "cell_type": "code",
   "execution_count": null,
   "metadata": {},
   "outputs": [],
   "source": [
    "data.columns"
   ]
  },
  {
   "cell_type": "code",
   "execution_count": null,
   "metadata": {},
   "outputs": [],
   "source": [
    "data.index"
   ]
  },
  {
   "cell_type": "code",
   "execution_count": null,
   "metadata": {},
   "outputs": [],
   "source": [
    "data.values"
   ]
  },
  {
   "cell_type": "markdown",
   "metadata": {},
   "source": [
    "#### loc"
   ]
  },
  {
   "cell_type": "code",
   "execution_count": null,
   "metadata": {},
   "outputs": [],
   "source": [
    "data.loc['Texas']"
   ]
  },
  {
   "cell_type": "code",
   "execution_count": null,
   "metadata": {},
   "outputs": [],
   "source": [
    "data.loc['Illinois', 'pop']"
   ]
  },
  {
   "cell_type": "code",
   "execution_count": null,
   "metadata": {},
   "outputs": [],
   "source": [
    "data.loc[:'Texas', :'pop'] "
   ]
  },
  {
   "cell_type": "markdown",
   "metadata": {},
   "source": [
    "#### iloc"
   ]
  },
  {
   "cell_type": "code",
   "execution_count": null,
   "metadata": {},
   "outputs": [],
   "source": [
    "data.iloc[-1]"
   ]
  },
  {
   "cell_type": "code",
   "execution_count": null,
   "metadata": {},
   "outputs": [],
   "source": [
    "data.iloc[1,2]"
   ]
  },
  {
   "cell_type": "code",
   "execution_count": null,
   "metadata": {},
   "outputs": [],
   "source": [
    "data.iloc[:3, :2]"
   ]
  },
  {
   "cell_type": "markdown",
   "metadata": {},
   "source": [
    "#### Masking indexing"
   ]
  },
  {
   "cell_type": "code",
   "execution_count": null,
   "metadata": {},
   "outputs": [],
   "source": [
    "data['density'] > 100"
   ]
  },
  {
   "cell_type": "code",
   "execution_count": null,
   "metadata": {},
   "outputs": [],
   "source": [
    "data[data['density'] > 100]"
   ]
  },
  {
   "cell_type": "markdown",
   "metadata": {},
   "source": [
    "#### Fancy indexing"
   ]
  },
  {
   "cell_type": "code",
   "execution_count": null,
   "metadata": {},
   "outputs": [],
   "source": [
    "data[['pop','income','density']]"
   ]
  },
  {
   "cell_type": "markdown",
   "metadata": {},
   "source": [
    "#### combine masking and fancy indexing as in the following:"
   ]
  },
  {
   "cell_type": "code",
   "execution_count": null,
   "metadata": {},
   "outputs": [],
   "source": [
    "data.loc[(data.density > 100).values, ['pop', 'density']]"
   ]
  },
  {
   "cell_type": "code",
   "execution_count": null,
   "metadata": {},
   "outputs": [],
   "source": [
    "data.iloc[(data.density > 100).values, [0,2]]"
   ]
  },
  {
   "cell_type": "markdown",
   "metadata": {},
   "source": [
    "# JSON & xml"
   ]
  },
  {
   "cell_type": "code",
   "execution_count": null,
   "metadata": {},
   "outputs": [],
   "source": [
    "dj = pd.read_json('./data/data.json')\n",
    "dj.head(10)"
   ]
  },
  {
   "cell_type": "code",
   "execution_count": null,
   "metadata": {},
   "outputs": [],
   "source": [
    "import xml.etree.ElementTree as XET\n",
    "tree = XET.parse('./data/County_h_10906.xml')  # 以XET套件載入XML檔案\n",
    "root = tree.getroot()         # 取得XML表格 \n",
    "for (i,tag_lv1) in enumerate(root):\n",
    "    print(tag_lv1.tag)\n",
    "    for tag_lv2 in tag_lv1:\n",
    "        print(tag_lv2.tag)\n",
    "    if i == 2:\n",
    "        break"
   ]
  },
  {
   "cell_type": "code",
   "execution_count": null,
   "metadata": {},
   "outputs": [],
   "source": [
    "print([(node.find('欄位1').text, node.find('欄位2').text, node.find('欄位3').text) for node in root.findall('County_h_10906')][:3])"
   ]
  },
  {
   "cell_type": "markdown",
   "metadata": {},
   "source": [
    "# MySQL"
   ]
  },
  {
   "cell_type": "code",
   "execution_count": null,
   "metadata": {},
   "outputs": [],
   "source": [
    "import sqlalchemy as db\n",
    "import pandas.io.sql as sql\n",
    "import pandas as pd\n",
    "\n",
    "#連接資料庫\n",
    "username = 'root'     # 資料庫帳號\n",
    "password = ''     # 資料庫密碼\n",
    "host = 'localhost'    # 資料庫位址\n",
    "port = '3306'         # 資料庫埠號\n",
    "database = 'classicmodels'   # 資料庫名稱\n",
    "table = 'offices'   # 表格名稱\n",
    "# 建立資料庫引擎\n",
    "engine = db.create_engine(f'mysql+pymysql://{username}:{password}@{host}:{port}/{database}')\n",
    "# 建立資料庫連線\n",
    "# con = engine.raw_connection()\n",
    "con = engine.connect()\n",
    "\n",
    "#readinto dataframe\n",
    "df = sql.read_sql(f'SELECT * FROM `{database}`.`{table}`;', con)\n",
    "df.tail()"
   ]
  },
  {
   "cell_type": "code",
   "execution_count": null,
   "metadata": {},
   "outputs": [],
   "source": [
    "df_append = pd.DataFrame([{'officeCode': 8,'city':'Taipei',\n",
    "                           'phone':'1234567891','addressLine1':'Taipei DaAn',\n",
    "                           'addressLine2':'Taipei DaAn2','state':'Taipei',\n",
    "                           'country':'Taiwan','postalCode':'123','territory':'Asia'}])\n",
    "df_append.tail()"
   ]
  },
  {
   "cell_type": "code",
   "execution_count": null,
   "metadata": {},
   "outputs": [],
   "source": [
    "sql.to_sql(df_append, name=table, con=con, if_exists='append',index=False)"
   ]
  },
  {
   "cell_type": "code",
   "execution_count": null,
   "metadata": {},
   "outputs": [],
   "source": [
    "df = sql.read_sql(f'SELECT * FROM `{database}`.`{table}`;', con)\n",
    "df.tail()"
   ]
  },
  {
   "cell_type": "markdown",
   "metadata": {},
   "source": [
    "# 補充"
   ]
  },
  {
   "cell_type": "code",
   "execution_count": null,
   "metadata": {},
   "outputs": [],
   "source": [
    "metadata = db.MetaData()\n",
    "# 取得 test 資料表的 Python 對應操作物件\n",
    "tableoffices = db.Table('offices', metadata, autoload=True, autoload_with=engine)\n",
    "\n",
    "# DELETE\n",
    "query = db.delete(tableoffices).where(tableoffices.c.officeCode == 8)\n",
    "proxy = con.execute(query)"
   ]
  }
 ],
 "metadata": {
  "kernelspec": {
   "display_name": "Python 3",
   "language": "python",
   "name": "python3"
  },
  "language_info": {
   "codemirror_mode": {
    "name": "ipython",
    "version": 3
   },
   "file_extension": ".py",
   "mimetype": "text/x-python",
   "name": "python",
   "nbconvert_exporter": "python",
   "pygments_lexer": "ipython3",
   "version": "3.8.5"
  }
 },
 "nbformat": 4,
 "nbformat_minor": 4
}
