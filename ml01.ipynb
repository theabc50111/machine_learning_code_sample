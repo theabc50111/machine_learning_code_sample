{
 "cells": [
  {
   "cell_type": "markdown",
   "metadata": {},
   "source": [
    "# Split data"
   ]
  },
  {
   "cell_type": "code",
   "execution_count": 1,
   "metadata": {},
   "outputs": [
    {
     "name": "stdout",
     "output_type": "stream",
     "text": [
      "before splitting......\n",
      "x: [[ 0  1]\n",
      " [ 2  3]\n",
      " [ 4  5]\n",
      " [ 6  7]\n",
      " [ 8  9]\n",
      " [10 11]\n",
      " [12 13]\n",
      " [14 15]\n",
      " [16 17]\n",
      " [18 19]]\n",
      "\n",
      "y: [0 1 2 3 4 5 6 7 8 9]\n",
      "\n",
      "shape of x: {x.shape}\n",
      "shape of y: {y.shape}\n",
      "\n",
      "after splitting......\n",
      "x_train: [[ 2  3]\n",
      " [ 4  5]\n",
      " [14 15]\n",
      " [16 17]\n",
      " [ 8  9]\n",
      " [ 0  1]\n",
      " [18 19]]\n",
      "\n",
      "x_test: [[12 13]\n",
      " [10 11]\n",
      " [ 6  7]]\n",
      "\n",
      "y_train: [1 2 7 8 4 0 9]\n",
      "\n",
      "y_test: [6 5 3]\n",
      "\n"
     ]
    }
   ],
   "source": [
    "import numpy as np\n",
    "from sklearn.model_selection import train_test_split\n",
    "\n",
    "x, y = np.arange(20).reshape((10, 2)), np.arange(10)\n",
    "\n",
    "print('before splitting......')\n",
    "\n",
    "print(f\"x: {x}\\n\")\n",
    "print(f\"y: {y}\\n\")\n",
    "\n",
    "print(\"shape of x: {x.shape}\")\n",
    "print(\"shape of y: {y.shape}\\n\")\n",
    "\n",
    "x_train, x_test, y_train, y_test = train_test_split(x, y, test_size=0.3)\n",
    "print('after splitting......')\n",
    "\n",
    "print(f\"x_train: {x_train}\\n\")\n",
    "print(f\"x_test: {x_test}\\n\")\n",
    "\n",
    "print(f\"y_train: {y_train}\\n\")\n",
    "print(f\"y_test: {y_test}\\n\")"
   ]
  },
  {
   "cell_type": "markdown",
   "metadata": {},
   "source": [
    "# Preprocessing Data"
   ]
  },
  {
   "cell_type": "code",
   "execution_count": 11,
   "metadata": {},
   "outputs": [
    {
     "name": "stdout",
     "output_type": "stream",
     "text": [
      "after standardiztion......\n",
      "x_train: [[-0.84292723 -1.22474487  1.33630621]\n",
      " [ 1.40487872  0.         -0.26726124]\n",
      " [-0.56195149  1.22474487 -1.06904497]]\n",
      "\n",
      "apply same mean and std to new data(test data)\n",
      "x_test:\n",
      " [[-1.12671273  1.22474487 -0.26726124]]\n"
     ]
    }
   ],
   "source": [
    "from sklearn import preprocessing\n",
    "import numpy as np\n",
    "\n",
    "x_train = np.array([[ 100., -1.,  2.],\n",
    "                    [ 900.,  0.,  0.],\n",
    "                    [ 200.,  1., -1.]])\n",
    "\n",
    "scaler = preprocessing.StandardScaler().fit(x_train)\n",
    "x_train = scaler.transform(x_train)\n",
    "\n",
    "print(\"after standardiztion......\")\n",
    "print(f'x_train: {x_train}')\n",
    "\n",
    "\n",
    "print(\"\\napply same mean and std to new data(test data)\")\n",
    "x_test = np.array([[-1., 1., 0.]])\n",
    "x_test = scaler.transform(x_test)\n",
    "print(f'x_test:\\n {x_test}')"
   ]
  },
  {
   "cell_type": "code",
   "execution_count": 7,
   "metadata": {},
   "outputs": [
    {
     "name": "stdout",
     "output_type": "stream",
     "text": [
      "after standardiztion......\n",
      "x_train:\n",
      " [[-0.84292723 -1.22474487  1.33630621]\n",
      " [ 1.40487872  0.         -0.26726124]\n",
      " [-0.56195149  1.22474487 -1.06904497]]\n"
     ]
    }
   ],
   "source": [
    "x_train = np.array([[ 100., -1.,  2.],\n",
    "                    [ 900.,  0.,  0.],\n",
    "                    [ 200.,  1., -1.]])\n",
    "\n",
    "x_train = preprocessing.StandardScaler().fit_transform(x_train)\n",
    "\n",
    "print(\"after standardiztion......\")\n",
    "print(f'x_train:\\n {x_train}')"
   ]
  }
 ],
 "metadata": {
  "kernelspec": {
   "display_name": "Python 3",
   "language": "python",
   "name": "python3"
  },
  "language_info": {
   "codemirror_mode": {
    "name": "ipython",
    "version": 3
   },
   "file_extension": ".py",
   "mimetype": "text/x-python",
   "name": "python",
   "nbconvert_exporter": "python",
   "pygments_lexer": "ipython3",
   "version": "3.8.5"
  }
 },
 "nbformat": 4,
 "nbformat_minor": 4
}
