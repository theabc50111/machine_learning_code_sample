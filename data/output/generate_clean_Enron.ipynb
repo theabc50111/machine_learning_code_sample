{
 "cells": [
  {
   "cell_type": "code",
   "execution_count": 13,
   "metadata": {},
   "outputs": [
    {
     "name": "stdout",
     "output_type": "stream",
     "text": [
      "Index(['bonus', 'deferral_payments', 'deferred_income', 'director_fees',\n",
      "       'exercised_stock_options', 'expenses', 'from_messages',\n",
      "       'from_poi_to_this_person', 'from_this_person_to_poi', 'loan_advances',\n",
      "       'long_term_incentive', 'other', 'poi', 'restricted_stock',\n",
      "       'restricted_stock_deferred', 'salary', 'shared_receipt_with_poi',\n",
      "       'to_messages', 'total_payments', 'total_stock_value'],\n",
      "      dtype='object') 20\n"
     ]
    }
   ],
   "source": [
    "import pandas as pd\n",
    "train_clean = pd.read_csv(\"../Enron_Fraud/Enron_train_data.csv\")\n",
    "test_clean =  pd.read_csv(\"../Enron_Fraud/Enron_test_features.csv\")\n",
    "train_clean = train_clean.drop(['name','email_address'],axis=1)\n",
    "test_clean = test_clean.drop(['name','email_address'],axis=1)\n",
    "print(train_clean.columns,len(train_clean.columns))\n",
    "train_clean = train_clean.fillna(0)\n",
    "test_clean = test_clean.fillna(0)\n",
    "train_clean.to_csv('Enron_train_data_clean.csv',index=False)\n",
    "test_clean.to_csv('Enron_test_features_clean.csv',index=False)"
   ]
  },
  {
   "cell_type": "code",
   "execution_count": 14,
   "metadata": {},
   "outputs": [
    {
     "data": {
      "text/plain": [
       "Index(['bonus', 'deferral_payments', 'deferred_income', 'director_fees',\n",
       "       'exercised_stock_options', 'expenses', 'from_messages',\n",
       "       'from_poi_to_this_person', 'from_this_person_to_poi', 'loan_advances',\n",
       "       'long_term_incentive', 'other', 'poi', 'restricted_stock',\n",
       "       'restricted_stock_deferred', 'salary', 'shared_receipt_with_poi',\n",
       "       'to_messages', 'total_payments', 'total_stock_value'],\n",
       "      dtype='object')"
      ]
     },
     "execution_count": 14,
     "metadata": {},
     "output_type": "execute_result"
    }
   ],
   "source": [
    "train_clean = pd.read_csv('Enron_train_data_clean.csv')\n",
    "test_clean =  pd.read_csv('Enron_test_features_clean.csv')\n",
    "train_clean.columns"
   ]
  },
  {
   "cell_type": "code",
   "execution_count": null,
   "metadata": {},
   "outputs": [],
   "source": []
  }
 ],
 "metadata": {
  "kernelspec": {
   "display_name": "Python 3",
   "language": "python",
   "name": "python3"
  },
  "language_info": {
   "codemirror_mode": {
    "name": "ipython",
    "version": 3
   },
   "file_extension": ".py",
   "mimetype": "text/x-python",
   "name": "python",
   "nbconvert_exporter": "python",
   "pygments_lexer": "ipython3",
   "version": "3.8.5"
  }
 },
 "nbformat": 4,
 "nbformat_minor": 4
}
