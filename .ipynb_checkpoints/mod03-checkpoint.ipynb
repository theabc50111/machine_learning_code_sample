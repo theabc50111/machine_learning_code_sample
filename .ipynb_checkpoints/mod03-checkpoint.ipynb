{
 "cells": [
  {
   "cell_type": "markdown",
   "metadata": {},
   "source": [
    "# correlation coefficient"
   ]
  },
  {
   "cell_type": "code",
   "execution_count": null,
   "metadata": {},
   "outputs": [],
   "source": [
    "import pandas as pd\n",
    "import numpy as np\n",
    "import warnings\n",
    "warnings.filterwarnings(\"ignore\")\n",
    "\n",
    "data_path = './data/house_train.csv'\n",
    "df_train = pd.read_csv(data_path)\n",
    "display(df_train)"
   ]
  },
  {
   "cell_type": "code",
   "execution_count": null,
   "metadata": {},
   "outputs": [],
   "source": [
    "corr = df_train.corr()\n",
    "display(corr)"
   ]
  },
  {
   "cell_type": "code",
   "execution_count": null,
   "metadata": {},
   "outputs": [],
   "source": [
    "corr_drop = corr.iloc[-1,:].drop(['index'])\n",
    "corr_drop[(corr_drop>0.03) | (corr_drop<-0.03)].index"
   ]
  },
  {
   "cell_type": "markdown",
   "metadata": {},
   "source": [
    "# Label encoding & One hot encoding"
   ]
  },
  {
   "cell_type": "code",
   "execution_count": null,
   "metadata": {},
   "outputs": [],
   "source": [
    "# 記得刪除 單價\n",
    "if '單價(元/平方公尺)' in df_train:\n",
    "    df_train = df_train.drop(['單價(元/平方公尺)'] , axis=1)\n",
    "\n",
    "\n",
    "#只取 int64, float64 兩種數值型欄位, 存於 num_features 中, 其他類別存於notnum_features\n",
    "num_features = []\n",
    "notnum_features = []\n",
    "for dtype, feature in zip(df_train.dtypes, df_train.columns):\n",
    "    if dtype == 'float64' or dtype == 'int64':\n",
    "        num_features.append(feature)\n",
    "    else:\n",
    "        notnum_features.append(feature)\n",
    "\n",
    "print(f'lehgth of all featrues : {len(df_train.columns)}\\n')\n",
    "print(f'length of Numeric Features : {len(num_features)}\\n Numeric Features : {num_features}\\n')\n",
    "print(f'length of Not Numeric Features : {len(notnum_features)}\\n Not Numeric Features : {notnum_features}')\n",
    "\n",
    "# 削減文字型欄位, 只剩數值型欄位\n",
    "df_train_num = df_train[num_features]\n",
    "df_train_num.head()"
   ]
  },
  {
   "cell_type": "code",
   "execution_count": null,
   "metadata": {},
   "outputs": [],
   "source": [
    "from sklearn.preprocessing import LabelEncoder\n",
    "df_train = df_train.fillna('None') # 要先去除遺失值\n",
    "df_train_le = pd.DataFrame()\n",
    "for c in notnum_features:\n",
    "    df_train_le[c] = LabelEncoder().fit_transform(df_train[c])\n",
    "df_train_le.head()"
   ]
  },
  {
   "cell_type": "code",
   "execution_count": null,
   "metadata": {},
   "outputs": [],
   "source": [
    "df_train_temp = pd.DataFrame()\n",
    "for c in notnum_features:\n",
    "    df_train_temp[c] = df_train[c]\n",
    "df_train_one = pd.get_dummies(df_train_temp)\n",
    "df_train_one.head()"
   ]
  },
  {
   "cell_type": "code",
   "execution_count": null,
   "metadata": {},
   "outputs": [],
   "source": [
    "from sklearn.preprocessing import OneHotEncoder\n",
    "df_train_one_sk = OneHotEncoder().fit_transform(df_train_temp.loc[:,['主要建材', '主要用途']]).toarray()\n",
    "df_train_one_sk.head()"
   ]
  },
  {
   "cell_type": "code",
   "execution_count": null,
   "metadata": {},
   "outputs": [],
   "source": [
    "display(df_train.iloc[:5,1])\n",
    "display(df_train_one.iloc[:5,:18])\n",
    "display(df_train_one_sk.iloc[:5,:18])"
   ]
  },
  {
   "cell_type": "markdown",
   "metadata": {},
   "source": [
    "# 時間特徵"
   ]
  },
  {
   "cell_type": "markdown",
   "metadata": {},
   "source": [
    "#### 時間特徵拆解"
   ]
  },
  {
   "cell_type": "code",
   "execution_count": null,
   "metadata": {},
   "outputs": [],
   "source": [
    "import datetime\n",
    "\n",
    "now = datetime.datetime.now() # current date and time\n",
    "print(now,type(now))\n",
    "year = datetime.datetime.strftime(now,\"%Y\")\n",
    "print(\"year:\", year)"
   ]
  },
  {
   "cell_type": "code",
   "execution_count": null,
   "metadata": {},
   "outputs": [],
   "source": [
    "str_time = datetime.datetime.strptime('2017-08-12 00:00:00', '%Y-%m-%d %H:%M:%S')\n",
    "print(str_time)\n",
    "print(type(str_time))"
   ]
  },
  {
   "cell_type": "code",
   "execution_count": null,
   "metadata": {},
   "outputs": [],
   "source": [
    "# 做完特徵工程前的所有準備\n",
    "import pandas as pd\n",
    "import numpy as np\n",
    "import datetime\n",
    "\n",
    "df_train_time = pd.DataFrame()\n",
    "df_train_time['transaction_datetime'] = df_train['交易年月日'].apply(lambda x: datetime.datetime.strptime(x, '%Y-%m-%d %H:%M:%S'))\n",
    "df_train_time['transaction_year'] = df_train_time['transaction_datetime'].apply(lambda x: datetime.datetime.strftime(x, '%Y')).astype('int64')\n",
    "df_train_time['transaction_month'] = df_train_time['transaction_datetime'].apply(lambda x: datetime.datetime.strftime(x, '%m')).astype('int64')\n",
    "df_train_time['transaction_day'] = df_train_time['transaction_datetime'].apply(lambda x: datetime.datetime.strftime(x, '%d')).astype('int64')\n",
    "df_train_time['transaction_hour'] = df_train_time['transaction_datetime'].apply(lambda x: datetime.datetime.strftime(x, '%H')).astype('int64')\n",
    "df_train_time['transaction_minute'] = df_train_time['transaction_datetime'].apply(lambda x: datetime.datetime.strftime(x, '%M')).astype('int64')\n",
    "df_train_time['transaction_second'] = df_train_time['transaction_datetime'].apply(lambda x: datetime.datetime.strftime(x, '%S')).astype('int64')\n",
    "df_train_time.head()"
   ]
  },
  {
   "cell_type": "markdown",
   "metadata": {},
   "source": [
    "#### 時間單位整合"
   ]
  },
  {
   "cell_type": "code",
   "execution_count": null,
   "metadata": {},
   "outputs": [],
   "source": [
    "import math\n",
    "df_train_time['year_cycle_half'] = df_train_time['transaction_month']/6 + df_train_time['transaction_day']/180\n",
    "df_train_time.head()"
   ]
  },
  {
   "cell_type": "markdown",
   "metadata": {},
   "source": [
    "#### 週期特徵"
   ]
  },
  {
   "cell_type": "code",
   "execution_count": null,
   "metadata": {},
   "outputs": [],
   "source": [
    "df_train_time['year_cycle_half']=df_train_time['year_cycle_half'].apply(lambda x:math.cos(x*math.pi))\n",
    "df_train_time.head()"
   ]
  },
  {
   "cell_type": "markdown",
   "metadata": {},
   "source": [
    "# 遺失值處理"
   ]
  },
  {
   "cell_type": "markdown",
   "metadata": {},
   "source": [
    "#### Detect in Series"
   ]
  },
  {
   "cell_type": "code",
   "execution_count": null,
   "metadata": {},
   "outputs": [],
   "source": [
    "data = pd.Series([1, np.nan, 3, None]); data\n",
    "print(data)\n",
    "print('-'*50)\n",
    "print(data.isnull())\n",
    "print('-'*10)\n",
    "print(data.isnull().any())\n",
    "print('-'*50)"
   ]
  },
  {
   "cell_type": "markdown",
   "metadata": {},
   "source": [
    "#### detect in DataFrame\n",
    "<details>\n",
    "    <summary>axis image 1</summary>\n",
    "    <img src=\"./img/2D_axis_1.jpg\">\n",
    "</details>\n",
    "<details>\n",
    "    <summary>axis image 2</summary>\n",
    "    <img src=\"./img/2D_axis.jpg\">\n",
    "</details>"
   ]
  },
  {
   "cell_type": "code",
   "execution_count": null,
   "metadata": {},
   "outputs": [],
   "source": [
    "df=pd.DataFrame(np.random.randn(1000,100))\n",
    "df[df>0.9]=pd.np.nan\n",
    "display(df)\n",
    "\n",
    "print(df.isnull().any()) # .any()預設為axis='index'(axis=0)，可以查詢哪些欄位有空值\n",
    "print('-'*50)\n",
    "print(df.isnull().any(axis=1))\n",
    "print('-'*50)\n",
    "print(df.isnull().any().any())"
   ]
  },
  {
   "cell_type": "markdown",
   "metadata": {},
   "source": [
    "#### 去除遺失值"
   ]
  },
  {
   "cell_type": "code",
   "execution_count": null,
   "metadata": {},
   "outputs": [],
   "source": [
    "data_path = './data/house_train.csv'\n",
    "df_train = pd.read_csv(data_path)\n",
    "display(df_train['主要建材'])\n",
    "print('-'*50)\n",
    "print(len(df_train['主要建材']),df_train['主要建材'].isnull().any().any())"
   ]
  },
  {
   "cell_type": "code",
   "execution_count": null,
   "metadata": {},
   "outputs": [],
   "source": [
    "Seires_drop_1 = df_train['主要建材'][df_train['主要建材'].notnull()]\n",
    "print(Seires_drop_1)\n",
    "print('_'*10)\n",
    "print(len(Seires_drop_1),Seires_drop_1.isnull().any().any())\n",
    "print('_'*50)\n",
    "\n",
    "Seires_drop_2 = df_train['主要建材'].dropna()\n",
    "print(Seires_drop_2)\n",
    "print('_'*10)\n",
    "print(len(Seires_drop_2),Seires_drop_2.isnull().any().any())\n",
    "print('_'*50)"
   ]
  },
  {
   "cell_type": "markdown",
   "metadata": {},
   "source": [
    "#### dropna()的參數 how"
   ]
  },
  {
   "cell_type": "code",
   "execution_count": null,
   "metadata": {},
   "outputs": [],
   "source": [
    "df = pd.DataFrame([[1,      np.nan, 2, np.nan],\n",
    "                   [2,      3,      5, np.nan],\n",
    "                   [np.nan, 4,      6, np.nan]],columns=['a','b','c','d'])\n",
    "\n",
    "df_drop_all = df.dropna(how='all',axis=1)\n",
    "df_drop_any = df.dropna(how='any',axis=1)\n",
    "display(df)\n",
    "display(df_drop_all)\n",
    "display(df_drop_any)"
   ]
  },
  {
   "cell_type": "markdown",
   "metadata": {},
   "source": [
    "#### 填補遺失值"
   ]
  },
  {
   "cell_type": "code",
   "execution_count": null,
   "metadata": {},
   "outputs": [],
   "source": [
    "Series_fill = df_train['主要建材'].fillna('沒紀錄')\n",
    "display(Series_fill)"
   ]
  },
  {
   "cell_type": "markdown",
   "metadata": {},
   "source": [
    "#### fillna()的參數 method"
   ]
  },
  {
   "cell_type": "code",
   "execution_count": null,
   "metadata": {},
   "outputs": [],
   "source": [
    "df = pd.DataFrame([[1,      np.nan, 2, np.nan],\n",
    "                   [2,      3,      5, np.nan],\n",
    "                   [np.nan, 4,      6, np.nan]],columns=['a','b','c','d'])\n",
    "display(df)\n",
    "display(df.fillna(method='ffill')) #預設axis=0\n",
    "display(df.fillna(method='ffill', axis=1))\n",
    "display(df.fillna(method='bfill'))"
   ]
  }
 ],
 "metadata": {
  "kernelspec": {
   "display_name": "Python 3",
   "language": "python",
   "name": "python3"
  },
  "language_info": {
   "codemirror_mode": {
    "name": "ipython",
    "version": 3
   },
   "file_extension": ".py",
   "mimetype": "text/x-python",
   "name": "python",
   "nbconvert_exporter": "python",
   "pygments_lexer": "ipython3",
   "version": "3.8.5"
  }
 },
 "nbformat": 4,
 "nbformat_minor": 4
}
