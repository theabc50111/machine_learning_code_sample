{
 "cells": [
  {
   "cell_type": "markdown",
   "metadata": {},
   "source": [
    "# 離群值處理"
   ]
  },
  {
   "cell_type": "markdown",
   "metadata": {},
   "source": [
    "#### Detect "
   ]
  },
  {
   "cell_type": "code",
   "execution_count": null,
   "metadata": {},
   "outputs": [],
   "source": [
    "import numpy as np\n",
    "import pandas as pd\n",
    "import matplotlib.pyplot as plt\n",
    "import warnings\n",
    "warnings.filterwarnings(\"ignore\")\n",
    "\n",
    "data_path = './data/house_train.csv'\n",
    "df_train = pd.read_csv(data_path)\n",
    "ori_series = df_train['土地移轉總面積(平方公尺)']\n",
    "display(ori_series)\n",
    "print(len(ori_series))"
   ]
  },
  {
   "cell_type": "code",
   "execution_count": null,
   "metadata": {},
   "outputs": [],
   "source": [
    "qt1 = ori_series.quantile(q=0.25)\n",
    "qt3 = ori_series.quantile(q=0.75)\n",
    "iqr = qt3-qt1\n",
    "\n",
    "\n",
    "display(ori_series[ori_series<(qt1 - 1.5*iqr)])\n",
    "display(ori_series[ori_series>(qt3 + 1.5*iqr)])\n",
    "plt.boxplot(ori_series)\n",
    "plt.show()"
   ]
  },
  {
   "cell_type": "markdown",
   "metadata": {},
   "source": [
    "#### drop outliers"
   ]
  },
  {
   "cell_type": "code",
   "execution_count": null,
   "metadata": {},
   "outputs": [],
   "source": [
    "mask = (ori_series>(qt1 - 1.5*iqr)).tolist() and (ori_series<(qt3 + 1.5*iqr)).tolist()\n",
    "series_drop_outliers = ori_series[mask]\n",
    "print(len(series_drop_outliers))\n",
    "plt.boxplot(series_drop_outliers)\n",
    "plt.show()"
   ]
  },
  {
   "cell_type": "markdown",
   "metadata": {},
   "source": [
    "#### fill outliers"
   ]
  },
  {
   "cell_type": "code",
   "execution_count": null,
   "metadata": {},
   "outputs": [],
   "source": [
    "series_fill = ori_series.copy()\n",
    "series_fill[series_fill>(qt3 + 1.5*iqr)] = qt3 + 1.5*iqr\n",
    "print(len(series_fill))\n",
    "plt.boxplot(series_fill)\n",
    "plt.show()"
   ]
  },
  {
   "cell_type": "markdown",
   "metadata": {},
   "source": [
    "# Normalize"
   ]
  },
  {
   "cell_type": "markdown",
   "metadata": {},
   "source": [
    "#### MinMaxScaler"
   ]
  },
  {
   "cell_type": "code",
   "execution_count": null,
   "metadata": {},
   "outputs": [],
   "source": [
    "from sklearn.preprocessing import MinMaxScaler, StandardScaler\n",
    "import numpy as np\n",
    "X = np.array([[ 1., -1.,  2.],\n",
    "              [ 2.,  0.,  0.],\n",
    "              [ 0.,  1., -1.]])\n",
    "\n",
    "print(f\"min of X: {X.min(axis=0)}\")\n",
    "print(f\"max of X: {X.max(axis=0)}\\n\")\n",
    "min_max_scaler = MinMaxScaler().fit(X)\n",
    "x_minmax_sk = min_max_scaler.transform(X)\n",
    "print(x_minmax_sk)"
   ]
  },
  {
   "cell_type": "markdown",
   "metadata": {},
   "source": [
    "#### StandardScaler"
   ]
  },
  {
   "cell_type": "code",
   "execution_count": null,
   "metadata": {},
   "outputs": [],
   "source": [
    "X = np.array([[ 1., -1.,  2.],\n",
    "              [ 2.,  0.,  0.],\n",
    "              [ 0.,  1., -1.]])\n",
    "print(f\"mean of X: {X.mean(axis=0)}\")\n",
    "print(f\"std of X: {X.std(axis=0)}\\n\")\n",
    "\n",
    "scaler = StandardScaler().fit(X)\n",
    "# apply mean and std to standardize data\n",
    "x_sc_sk = scaler.transform(X)\n",
    "print(f\"mean of scaler: {scaler.mean_}\")\n",
    "print(f\"std of scaler: {scaler.scale_}\\n\")\n",
    "print(x_sc_sk)"
   ]
  },
  {
   "cell_type": "markdown",
   "metadata": {},
   "source": [
    "# 資料合併"
   ]
  },
  {
   "cell_type": "markdown",
   "metadata": {},
   "source": [
    "#### pd.concat()"
   ]
  },
  {
   "cell_type": "code",
   "execution_count": null,
   "metadata": {},
   "outputs": [],
   "source": [
    "df1 = pd.DataFrame([['A1','B1'], ['A2','B2']],\n",
    "             columns=['A', 'B'],\n",
    "             index=[1,2])\n",
    "\n",
    "df2 = pd.DataFrame([['A3','B3'], ['A4','B4']],\n",
    "             columns=['A', 'B'],\n",
    "             index=[1,2])\n",
    "\n",
    "df3 = pd.DataFrame([['B5','C5'], ['B6','C6']],\n",
    "             columns=['B', 'C'],\n",
    "             index=[5,6])\n",
    "\n",
    "df4 = pd.concat([df1, df2])\n",
    "df5 = pd.concat([df1, df2],axis = 1)\n",
    "df6 = pd.concat([df1, df3])\n",
    "\n",
    "display(df1)\n",
    "display(df2)\n",
    "display(df3)\n",
    "display(df4)\n",
    "display(df5)\n",
    "display(df6)"
   ]
  },
  {
   "cell_type": "markdown",
   "metadata": {},
   "source": [
    "#### pd.merge()"
   ]
  },
  {
   "cell_type": "code",
   "execution_count": null,
   "metadata": {},
   "outputs": [],
   "source": [
    "df1 = pd.DataFrame({'A': ['A0', 'A1', 'A2', 'A3'],\n",
    "                    'B': ['B0', 'B1', 'B2', 'B3'],\n",
    "                    'C': ['C0', 'C1', 'C2', 'C3'],\n",
    "                    'D': ['D0', 'D1', 'D2', 'D3']},\n",
    "                   index=[0, 1, 2, 3])\n",
    "df2 = pd.DataFrame({'B': ['B2', 'B3', 'B6', 'B7'],\n",
    "                    'D': ['D2', 'D10000', 'D6', 'D7'],\n",
    "                    'F': ['F2', 'F3', 'F6', 'F7']},\n",
    "                   index=[2, 3, 6, 7])\n",
    "display(df1)\n",
    "display(df2)"
   ]
  },
  {
   "cell_type": "code",
   "execution_count": null,
   "metadata": {},
   "outputs": [],
   "source": [
    "result_inner = pd.merge(df1, df2, how='inner')\n",
    "result_inner_B = pd.merge(df1, df2, how='inner', on = 'B')\n",
    "result_outer = pd.merge(df1, df2, how='outer')\n",
    "display(result_inner)\n",
    "display(result_inner_B)\n",
    "display(result_outer)"
   ]
  },
  {
   "cell_type": "markdown",
   "metadata": {},
   "source": [
    "#### groupby()"
   ]
  },
  {
   "cell_type": "code",
   "execution_count": null,
   "metadata": {},
   "outputs": [],
   "source": [
    "df_train.groupby('鄉鎮市區').mean()"
   ]
  },
  {
   "cell_type": "markdown",
   "metadata": {},
   "source": [
    "# 補充:"
   ]
  },
  {
   "cell_type": "code",
   "execution_count": null,
   "metadata": {},
   "outputs": [],
   "source": [
    "df1 = pd.DataFrame({'A': ['A0', 'A1', 'A2', 'A3'],\n",
    "                    'B': ['B0', 'B1', 'B2', 'B3'],\n",
    "                    'C': ['C0', 'C1', 'C2', 'C3'],\n",
    "                    'D': ['D0', 'D1', 'D2', 'D3']},\n",
    "                   index=[0, 1, 2, 3])\n",
    "df_melt = df1.melt()\n",
    "display(df_melt)"
   ]
  },
  {
   "cell_type": "code",
   "execution_count": null,
   "metadata": {},
   "outputs": [],
   "source": [
    "df_pivot=df_melt.set_index(pd.Index([0,1,2,3,0,1,2,3,0,1,2,3,0,1,2,3]))\n",
    "df_pivot=df_pivot.pivot(columns='variable')\n",
    "display(df_pivot)"
   ]
  }
 ],
 "metadata": {
  "kernelspec": {
   "display_name": "Python 3",
   "language": "python",
   "name": "python3"
  },
  "language_info": {
   "codemirror_mode": {
    "name": "ipython",
    "version": 3
   },
   "file_extension": ".py",
   "mimetype": "text/x-python",
   "name": "python",
   "nbconvert_exporter": "python",
   "pygments_lexer": "ipython3",
   "version": "3.8.5"
  }
 },
 "nbformat": 4,
 "nbformat_minor": 4
}
