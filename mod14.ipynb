{
 "cells": [
  {
   "cell_type": "markdown",
   "metadata": {},
   "source": [
    "# Adaboost"
   ]
  },
  {
   "cell_type": "code",
   "execution_count": 1,
   "metadata": {},
   "outputs": [],
   "source": [
    "from sklearn import datasets\n",
    "import pandas as pd\n",
    "import numpy as np\n",
    "import matplotlib.pyplot as plt\n",
    "from sklearn.ensemble import AdaBoostClassifier\n",
    "from sklearn.metrics import accuracy_score\n",
    "from sklearn.model_selection import train_test_split"
   ]
  },
  {
   "cell_type": "code",
   "execution_count": 2,
   "metadata": {},
   "outputs": [],
   "source": [
    "cancer = datasets.load_breast_cancer()\n",
    "x = cancer.data \n",
    "y = cancer.target\n",
    "x_train, x_test, y_train, y_test = train_test_split(x, y, test_size=0.2)"
   ]
  },
  {
   "cell_type": "code",
   "execution_count": 3,
   "metadata": {},
   "outputs": [
    {
     "name": "stdout",
     "output_type": "stream",
     "text": [
      "0.9649122807017544\n"
     ]
    }
   ],
   "source": [
    "clf = AdaBoostClassifier(n_estimators=100, random_state=0)\n",
    "clf.fit(x_train, y_train)\n",
    "y_pred = clf.predict(x_test)\n",
    "print(accuracy_score(y_pred, y_test))"
   ]
  },
  {
   "cell_type": "markdown",
   "metadata": {},
   "source": [
    "# blending"
   ]
  },
  {
   "cell_type": "code",
   "execution_count": 4,
   "metadata": {},
   "outputs": [
    {
     "data": {
      "text/html": [
       "<div>\n",
       "<style scoped>\n",
       "    .dataframe tbody tr th:only-of-type {\n",
       "        vertical-align: middle;\n",
       "    }\n",
       "\n",
       "    .dataframe tbody tr th {\n",
       "        vertical-align: top;\n",
       "    }\n",
       "\n",
       "    .dataframe thead th {\n",
       "        text-align: right;\n",
       "    }\n",
       "</style>\n",
       "<table border=\"1\" class=\"dataframe\">\n",
       "  <thead>\n",
       "    <tr style=\"text-align: right;\">\n",
       "      <th></th>\n",
       "      <th>土地移轉總面積(平方公尺)</th>\n",
       "      <th>建物現況格局-廳</th>\n",
       "      <th>建物現況格局-房</th>\n",
       "      <th>建物現況格局-衛</th>\n",
       "      <th>建物移轉總面積(平方公尺)</th>\n",
       "      <th>總價(元)</th>\n",
       "      <th>車位移轉總面積(平方公尺)</th>\n",
       "      <th>車位總價(元)</th>\n",
       "      <th>num_of_bus_stations_in_100m</th>\n",
       "      <th>income_avg</th>\n",
       "      <th>...</th>\n",
       "      <th>建物型態</th>\n",
       "      <th>建物現況格局-隔間</th>\n",
       "      <th>有無管理組織</th>\n",
       "      <th>車位類別</th>\n",
       "      <th>都市土地使用分區</th>\n",
       "      <th>鄉鎮市區</th>\n",
       "      <th>非都市土地使用分區</th>\n",
       "      <th>location_type</th>\n",
       "      <th>low_use_electricity</th>\n",
       "      <th>nearest_tarin_station</th>\n",
       "    </tr>\n",
       "  </thead>\n",
       "  <tbody>\n",
       "    <tr>\n",
       "      <th>0</th>\n",
       "      <td>2.361522</td>\n",
       "      <td>-1.567592</td>\n",
       "      <td>-1.421213</td>\n",
       "      <td>-1.496114</td>\n",
       "      <td>-1.352965</td>\n",
       "      <td>-0.910604</td>\n",
       "      <td>0.0</td>\n",
       "      <td>0.0</td>\n",
       "      <td>-1.425100</td>\n",
       "      <td>0.105592</td>\n",
       "      <td>...</td>\n",
       "      <td>2</td>\n",
       "      <td>0</td>\n",
       "      <td>1</td>\n",
       "      <td>1</td>\n",
       "      <td>1</td>\n",
       "      <td>6</td>\n",
       "      <td>1</td>\n",
       "      <td>1</td>\n",
       "      <td>228</td>\n",
       "      <td>40</td>\n",
       "    </tr>\n",
       "    <tr>\n",
       "      <th>1</th>\n",
       "      <td>0.628730</td>\n",
       "      <td>0.812083</td>\n",
       "      <td>-0.734407</td>\n",
       "      <td>-0.343028</td>\n",
       "      <td>-0.344173</td>\n",
       "      <td>-0.662320</td>\n",
       "      <td>0.0</td>\n",
       "      <td>0.0</td>\n",
       "      <td>1.769935</td>\n",
       "      <td>-0.430513</td>\n",
       "      <td>...</td>\n",
       "      <td>1</td>\n",
       "      <td>0</td>\n",
       "      <td>1</td>\n",
       "      <td>1</td>\n",
       "      <td>0</td>\n",
       "      <td>1</td>\n",
       "      <td>1</td>\n",
       "      <td>3</td>\n",
       "      <td>252</td>\n",
       "      <td>39</td>\n",
       "    </tr>\n",
       "    <tr>\n",
       "      <th>2</th>\n",
       "      <td>2.361522</td>\n",
       "      <td>0.812083</td>\n",
       "      <td>1.326014</td>\n",
       "      <td>2.539689</td>\n",
       "      <td>2.294019</td>\n",
       "      <td>2.227697</td>\n",
       "      <td>0.0</td>\n",
       "      <td>0.0</td>\n",
       "      <td>1.130928</td>\n",
       "      <td>0.454073</td>\n",
       "      <td>...</td>\n",
       "      <td>0</td>\n",
       "      <td>0</td>\n",
       "      <td>0</td>\n",
       "      <td>4</td>\n",
       "      <td>0</td>\n",
       "      <td>5</td>\n",
       "      <td>1</td>\n",
       "      <td>2</td>\n",
       "      <td>335</td>\n",
       "      <td>23</td>\n",
       "    </tr>\n",
       "    <tr>\n",
       "      <th>3</th>\n",
       "      <td>0.294644</td>\n",
       "      <td>0.812083</td>\n",
       "      <td>0.639207</td>\n",
       "      <td>0.810059</td>\n",
       "      <td>-0.096570</td>\n",
       "      <td>-0.445073</td>\n",
       "      <td>0.0</td>\n",
       "      <td>0.0</td>\n",
       "      <td>-0.147086</td>\n",
       "      <td>-0.433294</td>\n",
       "      <td>...</td>\n",
       "      <td>1</td>\n",
       "      <td>0</td>\n",
       "      <td>1</td>\n",
       "      <td>1</td>\n",
       "      <td>0</td>\n",
       "      <td>9</td>\n",
       "      <td>1</td>\n",
       "      <td>3</td>\n",
       "      <td>76</td>\n",
       "      <td>52</td>\n",
       "    </tr>\n",
       "    <tr>\n",
       "      <th>4</th>\n",
       "      <td>-0.979831</td>\n",
       "      <td>0.812083</td>\n",
       "      <td>-0.047600</td>\n",
       "      <td>-0.343028</td>\n",
       "      <td>-0.679053</td>\n",
       "      <td>-0.320931</td>\n",
       "      <td>0.0</td>\n",
       "      <td>0.0</td>\n",
       "      <td>-1.425100</td>\n",
       "      <td>-0.728156</td>\n",
       "      <td>...</td>\n",
       "      <td>0</td>\n",
       "      <td>0</td>\n",
       "      <td>0</td>\n",
       "      <td>1</td>\n",
       "      <td>2</td>\n",
       "      <td>0</td>\n",
       "      <td>1</td>\n",
       "      <td>3</td>\n",
       "      <td>306</td>\n",
       "      <td>82</td>\n",
       "    </tr>\n",
       "  </tbody>\n",
       "</table>\n",
       "<p>5 rows × 35 columns</p>\n",
       "</div>"
      ],
      "text/plain": [
       "   土地移轉總面積(平方公尺)  建物現況格局-廳  建物現況格局-房  建物現況格局-衛  建物移轉總面積(平方公尺)     總價(元)  \\\n",
       "0       2.361522 -1.567592 -1.421213 -1.496114      -1.352965 -0.910604   \n",
       "1       0.628730  0.812083 -0.734407 -0.343028      -0.344173 -0.662320   \n",
       "2       2.361522  0.812083  1.326014  2.539689       2.294019  2.227697   \n",
       "3       0.294644  0.812083  0.639207  0.810059      -0.096570 -0.445073   \n",
       "4      -0.979831  0.812083 -0.047600 -0.343028      -0.679053 -0.320931   \n",
       "\n",
       "   車位移轉總面積(平方公尺)  車位總價(元)  num_of_bus_stations_in_100m  income_avg  ...  建物型態  \\\n",
       "0            0.0      0.0                    -1.425100    0.105592  ...     2   \n",
       "1            0.0      0.0                     1.769935   -0.430513  ...     1   \n",
       "2            0.0      0.0                     1.130928    0.454073  ...     0   \n",
       "3            0.0      0.0                    -0.147086   -0.433294  ...     1   \n",
       "4            0.0      0.0                    -1.425100   -0.728156  ...     0   \n",
       "\n",
       "   建物現況格局-隔間  有無管理組織  車位類別  都市土地使用分區  鄉鎮市區  非都市土地使用分區  location_type  \\\n",
       "0          0       1     1         1     6          1              1   \n",
       "1          0       1     1         0     1          1              3   \n",
       "2          0       0     4         0     5          1              2   \n",
       "3          0       1     1         0     9          1              3   \n",
       "4          0       0     1         2     0          1              3   \n",
       "\n",
       "   low_use_electricity  nearest_tarin_station  \n",
       "0                  228                     40  \n",
       "1                  252                     39  \n",
       "2                  335                     23  \n",
       "3                   76                     52  \n",
       "4                  306                     82  \n",
       "\n",
       "[5 rows x 35 columns]"
      ]
     },
     "metadata": {},
     "output_type": "display_data"
    }
   ],
   "source": [
    "import pandas as pd\n",
    "import numpy as np\n",
    "from sklearn.model_selection import train_test_split\n",
    "from sklearn.metrics import mean_squared_error\n",
    "\n",
    "df_train = pd.read_csv('data/output/house_train_clean.csv')\n",
    "\n",
    "df_train_y = df_train['單價(元/平方公尺)']\n",
    "df_train = df_train.drop(['單價(元/平方公尺)'], axis=1)\n",
    "display(df_train.head())\n",
    "\n",
    "x_train, x_test, y_train, y_test = train_test_split(df_train, df_train_y, test_size=0.2, random_state=1)"
   ]
  },
  {
   "cell_type": "code",
   "execution_count": 5,
   "metadata": {},
   "outputs": [],
   "source": [
    "# 使用三種模型 : 線性迴歸 / 梯度提升機 / 隨機森林, 參數使用 Random Search 尋找\n",
    "from sklearn.linear_model import LinearRegression\n",
    "from sklearn.ensemble import GradientBoostingRegressor, RandomForestRegressor\n",
    "lr = LinearRegression(normalize=False, fit_intercept=True, copy_X=True)\n",
    "gdbt = GradientBoostingRegressor(tol=0.1, subsample=0.37, n_estimators=200, max_features=20, \n",
    "                                 max_depth=6, learning_rate=0.03)\n",
    "rf = RandomForestRegressor(n_estimators=300, min_samples_split=9, min_samples_leaf=10, \n",
    "                           max_features='sqrt', max_depth=8, bootstrap=False)"
   ]
  },
  {
   "cell_type": "code",
   "execution_count": 6,
   "metadata": {},
   "outputs": [
    {
     "name": "stdout",
     "output_type": "stream",
     "text": [
      "88171.56857232089\n"
     ]
    }
   ],
   "source": [
    "# 線性迴歸預測\n",
    "model_lr = lr.fit(x_train, y_train)\n",
    "lr_pred = model_lr.predict(x_test)\n",
    "mse_lr = mean_squared_error(lr_pred,y_test, squared=False)\n",
    "print(mse_lr)"
   ]
  },
  {
   "cell_type": "code",
   "execution_count": 7,
   "metadata": {},
   "outputs": [
    {
     "name": "stdout",
     "output_type": "stream",
     "text": [
      "87275.93511369871\n"
     ]
    }
   ],
   "source": [
    "# 隨機森林預測\n",
    "model_rf = rf.fit(x_train, y_train)\n",
    "rf_pred = model_rf.predict(x_test)\n",
    "mse_rf = mean_squared_error(rf_pred,y_test, squared=False)\n",
    "print(mse_rf)"
   ]
  },
  {
   "cell_type": "code",
   "execution_count": 8,
   "metadata": {},
   "outputs": [
    {
     "name": "stdout",
     "output_type": "stream",
     "text": [
      "87522.71193572339\n"
     ]
    }
   ],
   "source": [
    "# 梯度提升機預測\n",
    "model_gdbt = gdbt.fit(x_train, y_train)\n",
    "gdbt_pred = gdbt.predict(x_test)\n",
    "mse_gdbt = mean_squared_error(gdbt_pred,y_test, squared=False)\n",
    "print(mse_gdbt)"
   ]
  },
  {
   "cell_type": "code",
   "execution_count": 9,
   "metadata": {},
   "outputs": [
    {
     "data": {
      "text/plain": [
       "72094.14137134096"
      ]
     },
     "execution_count": 9,
     "metadata": {},
     "output_type": "execute_result"
    }
   ],
   "source": [
    "# 混合泛化預測\n",
    "mse_sum = mse_gdbt + mse_rf + mse_lr\n",
    "blending_pred = lr_pred*(mse_lr/mse_sum) + gdbt_pred*(mse_gdbt/mse_sum) + rf_pred*(mse_rf/mse_sum)\n",
    "mean_squared_error(blending_pred,y_test, squared=False)"
   ]
  },
  {
   "cell_type": "markdown",
   "metadata": {},
   "source": [
    "#### 注意，Blending 的前提是 : 個別單模效果都很好(有調參)並且模型差異⼤，單模要好尤其重要，如果單模效果差異太⼤，Blending 的效果提升就相當有限"
   ]
  },
  {
   "cell_type": "code",
   "execution_count": 10,
   "metadata": {},
   "outputs": [
    {
     "name": "stdout",
     "output_type": "stream",
     "text": [
      "304948.95791727374\n"
     ]
    }
   ],
   "source": [
    "from sklearn.ensemble import AdaBoostRegressor\n",
    "adb = AdaBoostRegressor(n_estimators=50,random_state=0)\n",
    "\n",
    "model_adb = adb.fit(x_train, y_train)\n",
    "adb_pred = adb.predict(x_test)\n",
    "mse_adb = mean_squared_error(adb_pred,y_test, squared=False)\n",
    "print(mse_adb)"
   ]
  },
  {
   "cell_type": "code",
   "execution_count": 11,
   "metadata": {},
   "outputs": [
    {
     "data": {
      "text/plain": [
       "180502.68597362222"
      ]
     },
     "execution_count": 11,
     "metadata": {},
     "output_type": "execute_result"
    }
   ],
   "source": [
    "mse_sum = mse_gdbt + mse_rf + mse_lr + mse_adb\n",
    "blending_pred = lr_pred*(mse_lr/mse_sum) + gdbt_pred*(mse_gdbt/mse_sum) + rf_pred*(mse_rf/mse_sum) + adb_pred*(mse_adb/mse_sum)\n",
    "mean_squared_error(blending_pred,y_test, squared=False)"
   ]
  }
 ],
 "metadata": {
  "kernelspec": {
   "display_name": "Python 3",
   "language": "python",
   "name": "python3"
  },
  "language_info": {
   "codemirror_mode": {
    "name": "ipython",
    "version": 3
   },
   "file_extension": ".py",
   "mimetype": "text/x-python",
   "name": "python",
   "nbconvert_exporter": "python",
   "pygments_lexer": "ipython3",
   "version": "3.8.5"
  }
 },
 "nbformat": 4,
 "nbformat_minor": 4
}
